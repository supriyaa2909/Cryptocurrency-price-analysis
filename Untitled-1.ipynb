{
 "cells": [
  {
   "cell_type": "code",
   "execution_count": null,
   "metadata": {},
   "outputs": [],
   "source": [
    "from itertools import permutations\n",
    "\n",
    "def polygon(vertices):\n",
    "    n = len(vertices)\n",
    "    a = 0\n",
    "    for i in range(n):\n",
    "        x1, y1 = vertices[i]\n",
    "        x2, y2 = vertices[(i + 1) % n] # next point, and connect last point to the first\n",
    "        a+= x1 * y2 - x2 * y1\n",
    "    return abs(a) // 2\n",
    "\n",
    "def is_valid_polygon(points, segments):\n",
    "    for i in range(len(points)):\n",
    "        x1, y1 = points[i]\n",
    "        x2, y2 = points[(i + 1) % len(points)]\n",
    "        if (x1, y1, x2, y2) not in segments and (x2, y2, x1, y1) not in segments:\n",
    "            return False\n",
    "    return True\n",
    "\n",
    "def maxi_area(N, segments):\n",
    "    segment_set = set(tuple(segments[i]) for i in range(N))\n",
    "    \n",
    "    max_area = 0\n",
    "    \n",
    "    for p in permutations(segments):\n",
    "        points = []\n",
    "        for i in range(len(p)):\n",
    "            if i == 0 or p[i][0:2] == p[i-1][2:4]:\n",
    "                points.append(p[i][0:2])\n",
    "            else:\n",
    "                break\n",
    "\n",
    "        if len(points) == len(p) and is_valid_polygon(points, segment_set):\n",
    "            area = polygon(points)\n",
    "            max_area = max(max_area, area)\n",
    "\n",
    "    return max_area\n",
    "\n",
    "\n",
    "N = int(input()) \n",
    "segments = []\n",
    "for _ in range(N):\n",
    "    x1, y1, x2, y2 = map(int, input().split()) \n",
    "    segments.append((x1, y1, x2, y2))\n",
    "\n",
    "print(maxi_area(N, segments))"
   ]
  }
 ],
 "metadata": {
  "language_info": {
   "name": "python"
  }
 },
 "nbformat": 4,
 "nbformat_minor": 2
}
